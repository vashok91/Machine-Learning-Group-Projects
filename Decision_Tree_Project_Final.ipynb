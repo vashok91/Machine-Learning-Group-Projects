{
 "cells": [
  {
   "cell_type": "markdown",
   "metadata": {},
   "source": [
    "# Decision Tree Project\n",
    "## Members: Eric Scoggins, Mariam Irfan, Ross Cado, Vaibhav Ashok"
   ]
  },
  {
   "cell_type": "code",
   "execution_count": 116,
   "metadata": {},
   "outputs": [],
   "source": [
    "import numpy as np\n",
    "import pandas as pd\n",
    "import matplotlib.pylab as plt\n",
    "import seaborn as sns\n",
    "from pandas.plotting import scatter_matrix, parallel_coordinates"
   ]
  },
  {
   "cell_type": "markdown",
   "metadata": {},
   "source": [
    "### Now we import the dataset \"Bank_Personal_Loan_Modelling\".\n",
    "\n",
    "The data set includes 5000 observations with fourteen variables. The variables are personal loan, securities account, CD account, online banking, credit card, age, experience, income, CC avg, mortgage, family, education, ID, and Zip code.  "
   ]
  },
  {
   "cell_type": "code",
   "execution_count": 117,
   "metadata": {
    "scrolled": true
   },
   "outputs": [],
   "source": [
    "bank_df = pd.read_excel('Bank_Personal_Loan_Modelling.xlsx', 'Data')\n",
    "bank_df.rename(columns={'ZIP Code': 'ZIPCode', 'Personal Loan': 'PersonalLoan',\n",
    "                       'Securities Account': 'SecuritiesAccount', 'CD Account': 'CDAccount'}, inplace=True)"
   ]
  },
  {
   "cell_type": "markdown",
   "metadata": {},
   "source": [
    "### The next command shows the first 5 rows of the dataset. "
   ]
  },
  {
   "cell_type": "code",
   "execution_count": 118,
   "metadata": {},
   "outputs": [
    {
     "data": {
      "text/html": [
       "<div>\n",
       "<style scoped>\n",
       "    .dataframe tbody tr th:only-of-type {\n",
       "        vertical-align: middle;\n",
       "    }\n",
       "\n",
       "    .dataframe tbody tr th {\n",
       "        vertical-align: top;\n",
       "    }\n",
       "\n",
       "    .dataframe thead th {\n",
       "        text-align: right;\n",
       "    }\n",
       "</style>\n",
       "<table border=\"1\" class=\"dataframe\">\n",
       "  <thead>\n",
       "    <tr style=\"text-align: right;\">\n",
       "      <th></th>\n",
       "      <th>ID</th>\n",
       "      <th>Age</th>\n",
       "      <th>Experience</th>\n",
       "      <th>Income</th>\n",
       "      <th>ZIPCode</th>\n",
       "      <th>Family</th>\n",
       "      <th>CCAvg</th>\n",
       "      <th>Education</th>\n",
       "      <th>Mortgage</th>\n",
       "      <th>PersonalLoan</th>\n",
       "      <th>SecuritiesAccount</th>\n",
       "      <th>CDAccount</th>\n",
       "      <th>Online</th>\n",
       "      <th>CreditCard</th>\n",
       "    </tr>\n",
       "  </thead>\n",
       "  <tbody>\n",
       "    <tr>\n",
       "      <th>0</th>\n",
       "      <td>1</td>\n",
       "      <td>25</td>\n",
       "      <td>1</td>\n",
       "      <td>49</td>\n",
       "      <td>91107</td>\n",
       "      <td>4</td>\n",
       "      <td>1.6</td>\n",
       "      <td>1</td>\n",
       "      <td>0</td>\n",
       "      <td>0</td>\n",
       "      <td>1</td>\n",
       "      <td>0</td>\n",
       "      <td>0</td>\n",
       "      <td>0</td>\n",
       "    </tr>\n",
       "    <tr>\n",
       "      <th>1</th>\n",
       "      <td>2</td>\n",
       "      <td>45</td>\n",
       "      <td>19</td>\n",
       "      <td>34</td>\n",
       "      <td>90089</td>\n",
       "      <td>3</td>\n",
       "      <td>1.5</td>\n",
       "      <td>1</td>\n",
       "      <td>0</td>\n",
       "      <td>0</td>\n",
       "      <td>1</td>\n",
       "      <td>0</td>\n",
       "      <td>0</td>\n",
       "      <td>0</td>\n",
       "    </tr>\n",
       "    <tr>\n",
       "      <th>2</th>\n",
       "      <td>3</td>\n",
       "      <td>39</td>\n",
       "      <td>15</td>\n",
       "      <td>11</td>\n",
       "      <td>94720</td>\n",
       "      <td>1</td>\n",
       "      <td>1.0</td>\n",
       "      <td>1</td>\n",
       "      <td>0</td>\n",
       "      <td>0</td>\n",
       "      <td>0</td>\n",
       "      <td>0</td>\n",
       "      <td>0</td>\n",
       "      <td>0</td>\n",
       "    </tr>\n",
       "    <tr>\n",
       "      <th>3</th>\n",
       "      <td>4</td>\n",
       "      <td>35</td>\n",
       "      <td>9</td>\n",
       "      <td>100</td>\n",
       "      <td>94112</td>\n",
       "      <td>1</td>\n",
       "      <td>2.7</td>\n",
       "      <td>2</td>\n",
       "      <td>0</td>\n",
       "      <td>0</td>\n",
       "      <td>0</td>\n",
       "      <td>0</td>\n",
       "      <td>0</td>\n",
       "      <td>0</td>\n",
       "    </tr>\n",
       "    <tr>\n",
       "      <th>4</th>\n",
       "      <td>5</td>\n",
       "      <td>35</td>\n",
       "      <td>8</td>\n",
       "      <td>45</td>\n",
       "      <td>91330</td>\n",
       "      <td>4</td>\n",
       "      <td>1.0</td>\n",
       "      <td>2</td>\n",
       "      <td>0</td>\n",
       "      <td>0</td>\n",
       "      <td>0</td>\n",
       "      <td>0</td>\n",
       "      <td>0</td>\n",
       "      <td>1</td>\n",
       "    </tr>\n",
       "  </tbody>\n",
       "</table>\n",
       "</div>"
      ],
      "text/plain": [
       "   ID  Age  Experience  Income  ZIPCode  Family  CCAvg  Education  Mortgage  \\\n",
       "0   1   25           1      49    91107       4    1.6          1         0   \n",
       "1   2   45          19      34    90089       3    1.5          1         0   \n",
       "2   3   39          15      11    94720       1    1.0          1         0   \n",
       "3   4   35           9     100    94112       1    2.7          2         0   \n",
       "4   5   35           8      45    91330       4    1.0          2         0   \n",
       "\n",
       "   PersonalLoan  SecuritiesAccount  CDAccount  Online  CreditCard  \n",
       "0             0                  1          0       0           0  \n",
       "1             0                  1          0       0           0  \n",
       "2             0                  0          0       0           0  \n",
       "3             0                  0          0       0           0  \n",
       "4             0                  0          0       0           1  "
      ]
     },
     "execution_count": 118,
     "metadata": {},
     "output_type": "execute_result"
    }
   ],
   "source": [
    "bank_df.head()"
   ]
  },
  {
   "cell_type": "markdown",
   "metadata": {},
   "source": [
    "### Dataset Description"
   ]
  },
  {
   "cell_type": "code",
   "execution_count": 119,
   "metadata": {
    "scrolled": true
   },
   "outputs": [
    {
     "name": "stdout",
     "output_type": "stream",
     "text": [
      "Dataset Shape:  (5000, 14)\n",
      "\n",
      "Data Types: \n",
      "\n",
      "ID                     int64\n",
      "Age                    int64\n",
      "Experience             int64\n",
      "Income                 int64\n",
      "ZIPCode                int64\n",
      "Family                 int64\n",
      "CCAvg                float64\n",
      "Education              int64\n",
      "Mortgage               int64\n",
      "PersonalLoan           int64\n",
      "SecuritiesAccount      int64\n",
      "CDAccount              int64\n",
      "Online                 int64\n",
      "CreditCard             int64\n",
      "dtype: object\n",
      "\n",
      "Data Analysis: \n"
     ]
    }
   ],
   "source": [
    "print('Dataset Shape: ', bank_df.shape)\n",
    "print('')\n",
    "print('Data Types: ')\n",
    "print('')\n",
    "print(bank_df.dtypes)\n",
    "print('')\n",
    "print('Data Analysis: ')"
   ]
  },
  {
   "cell_type": "code",
   "execution_count": 120,
   "metadata": {},
   "outputs": [
    {
     "data": {
      "text/html": [
       "<div>\n",
       "<style scoped>\n",
       "    .dataframe tbody tr th:only-of-type {\n",
       "        vertical-align: middle;\n",
       "    }\n",
       "\n",
       "    .dataframe tbody tr th {\n",
       "        vertical-align: top;\n",
       "    }\n",
       "\n",
       "    .dataframe thead th {\n",
       "        text-align: right;\n",
       "    }\n",
       "</style>\n",
       "<table border=\"1\" class=\"dataframe\">\n",
       "  <thead>\n",
       "    <tr style=\"text-align: right;\">\n",
       "      <th></th>\n",
       "      <th>ID</th>\n",
       "      <th>Age</th>\n",
       "      <th>Experience</th>\n",
       "      <th>Income</th>\n",
       "      <th>ZIPCode</th>\n",
       "      <th>Family</th>\n",
       "      <th>CCAvg</th>\n",
       "      <th>Education</th>\n",
       "      <th>Mortgage</th>\n",
       "      <th>PersonalLoan</th>\n",
       "      <th>SecuritiesAccount</th>\n",
       "      <th>CDAccount</th>\n",
       "      <th>Online</th>\n",
       "      <th>CreditCard</th>\n",
       "    </tr>\n",
       "  </thead>\n",
       "  <tbody>\n",
       "    <tr>\n",
       "      <th>count</th>\n",
       "      <td>5000.000000</td>\n",
       "      <td>5000.000000</td>\n",
       "      <td>5000.000000</td>\n",
       "      <td>5000.000000</td>\n",
       "      <td>5000.000000</td>\n",
       "      <td>5000.000000</td>\n",
       "      <td>5000.000000</td>\n",
       "      <td>5000.000000</td>\n",
       "      <td>5000.000000</td>\n",
       "      <td>5000.000000</td>\n",
       "      <td>5000.000000</td>\n",
       "      <td>5000.00000</td>\n",
       "      <td>5000.000000</td>\n",
       "      <td>5000.000000</td>\n",
       "    </tr>\n",
       "    <tr>\n",
       "      <th>mean</th>\n",
       "      <td>2500.500000</td>\n",
       "      <td>45.338400</td>\n",
       "      <td>20.104600</td>\n",
       "      <td>73.774200</td>\n",
       "      <td>93152.503000</td>\n",
       "      <td>2.396400</td>\n",
       "      <td>1.937913</td>\n",
       "      <td>1.881000</td>\n",
       "      <td>56.498800</td>\n",
       "      <td>0.096000</td>\n",
       "      <td>0.104400</td>\n",
       "      <td>0.06040</td>\n",
       "      <td>0.596800</td>\n",
       "      <td>0.294000</td>\n",
       "    </tr>\n",
       "    <tr>\n",
       "      <th>std</th>\n",
       "      <td>1443.520003</td>\n",
       "      <td>11.463166</td>\n",
       "      <td>11.467954</td>\n",
       "      <td>46.033729</td>\n",
       "      <td>2121.852197</td>\n",
       "      <td>1.147663</td>\n",
       "      <td>1.747666</td>\n",
       "      <td>0.839869</td>\n",
       "      <td>101.713802</td>\n",
       "      <td>0.294621</td>\n",
       "      <td>0.305809</td>\n",
       "      <td>0.23825</td>\n",
       "      <td>0.490589</td>\n",
       "      <td>0.455637</td>\n",
       "    </tr>\n",
       "    <tr>\n",
       "      <th>min</th>\n",
       "      <td>1.000000</td>\n",
       "      <td>23.000000</td>\n",
       "      <td>-3.000000</td>\n",
       "      <td>8.000000</td>\n",
       "      <td>9307.000000</td>\n",
       "      <td>1.000000</td>\n",
       "      <td>0.000000</td>\n",
       "      <td>1.000000</td>\n",
       "      <td>0.000000</td>\n",
       "      <td>0.000000</td>\n",
       "      <td>0.000000</td>\n",
       "      <td>0.00000</td>\n",
       "      <td>0.000000</td>\n",
       "      <td>0.000000</td>\n",
       "    </tr>\n",
       "    <tr>\n",
       "      <th>25%</th>\n",
       "      <td>1250.750000</td>\n",
       "      <td>35.000000</td>\n",
       "      <td>10.000000</td>\n",
       "      <td>39.000000</td>\n",
       "      <td>91911.000000</td>\n",
       "      <td>1.000000</td>\n",
       "      <td>0.700000</td>\n",
       "      <td>1.000000</td>\n",
       "      <td>0.000000</td>\n",
       "      <td>0.000000</td>\n",
       "      <td>0.000000</td>\n",
       "      <td>0.00000</td>\n",
       "      <td>0.000000</td>\n",
       "      <td>0.000000</td>\n",
       "    </tr>\n",
       "    <tr>\n",
       "      <th>50%</th>\n",
       "      <td>2500.500000</td>\n",
       "      <td>45.000000</td>\n",
       "      <td>20.000000</td>\n",
       "      <td>64.000000</td>\n",
       "      <td>93437.000000</td>\n",
       "      <td>2.000000</td>\n",
       "      <td>1.500000</td>\n",
       "      <td>2.000000</td>\n",
       "      <td>0.000000</td>\n",
       "      <td>0.000000</td>\n",
       "      <td>0.000000</td>\n",
       "      <td>0.00000</td>\n",
       "      <td>1.000000</td>\n",
       "      <td>0.000000</td>\n",
       "    </tr>\n",
       "    <tr>\n",
       "      <th>75%</th>\n",
       "      <td>3750.250000</td>\n",
       "      <td>55.000000</td>\n",
       "      <td>30.000000</td>\n",
       "      <td>98.000000</td>\n",
       "      <td>94608.000000</td>\n",
       "      <td>3.000000</td>\n",
       "      <td>2.500000</td>\n",
       "      <td>3.000000</td>\n",
       "      <td>101.000000</td>\n",
       "      <td>0.000000</td>\n",
       "      <td>0.000000</td>\n",
       "      <td>0.00000</td>\n",
       "      <td>1.000000</td>\n",
       "      <td>1.000000</td>\n",
       "    </tr>\n",
       "    <tr>\n",
       "      <th>max</th>\n",
       "      <td>5000.000000</td>\n",
       "      <td>67.000000</td>\n",
       "      <td>43.000000</td>\n",
       "      <td>224.000000</td>\n",
       "      <td>96651.000000</td>\n",
       "      <td>4.000000</td>\n",
       "      <td>10.000000</td>\n",
       "      <td>3.000000</td>\n",
       "      <td>635.000000</td>\n",
       "      <td>1.000000</td>\n",
       "      <td>1.000000</td>\n",
       "      <td>1.00000</td>\n",
       "      <td>1.000000</td>\n",
       "      <td>1.000000</td>\n",
       "    </tr>\n",
       "  </tbody>\n",
       "</table>\n",
       "</div>"
      ],
      "text/plain": [
       "                ID          Age   Experience       Income       ZIPCode  \\\n",
       "count  5000.000000  5000.000000  5000.000000  5000.000000   5000.000000   \n",
       "mean   2500.500000    45.338400    20.104600    73.774200  93152.503000   \n",
       "std    1443.520003    11.463166    11.467954    46.033729   2121.852197   \n",
       "min       1.000000    23.000000    -3.000000     8.000000   9307.000000   \n",
       "25%    1250.750000    35.000000    10.000000    39.000000  91911.000000   \n",
       "50%    2500.500000    45.000000    20.000000    64.000000  93437.000000   \n",
       "75%    3750.250000    55.000000    30.000000    98.000000  94608.000000   \n",
       "max    5000.000000    67.000000    43.000000   224.000000  96651.000000   \n",
       "\n",
       "            Family        CCAvg    Education     Mortgage  PersonalLoan  \\\n",
       "count  5000.000000  5000.000000  5000.000000  5000.000000   5000.000000   \n",
       "mean      2.396400     1.937913     1.881000    56.498800      0.096000   \n",
       "std       1.147663     1.747666     0.839869   101.713802      0.294621   \n",
       "min       1.000000     0.000000     1.000000     0.000000      0.000000   \n",
       "25%       1.000000     0.700000     1.000000     0.000000      0.000000   \n",
       "50%       2.000000     1.500000     2.000000     0.000000      0.000000   \n",
       "75%       3.000000     2.500000     3.000000   101.000000      0.000000   \n",
       "max       4.000000    10.000000     3.000000   635.000000      1.000000   \n",
       "\n",
       "       SecuritiesAccount   CDAccount       Online   CreditCard  \n",
       "count        5000.000000  5000.00000  5000.000000  5000.000000  \n",
       "mean            0.104400     0.06040     0.596800     0.294000  \n",
       "std             0.305809     0.23825     0.490589     0.455637  \n",
       "min             0.000000     0.00000     0.000000     0.000000  \n",
       "25%             0.000000     0.00000     0.000000     0.000000  \n",
       "50%             0.000000     0.00000     1.000000     0.000000  \n",
       "75%             0.000000     0.00000     1.000000     1.000000  \n",
       "max             1.000000     1.00000     1.000000     1.000000  "
      ]
     },
     "execution_count": 120,
     "metadata": {},
     "output_type": "execute_result"
    }
   ],
   "source": [
    "bank_df.describe()"
   ]
  },
  {
   "cell_type": "markdown",
   "metadata": {},
   "source": [
    "### Checking for missing values\n",
    "Removes any rows with missing values"
   ]
  },
  {
   "cell_type": "code",
   "execution_count": 121,
   "metadata": {},
   "outputs": [
    {
     "name": "stdout",
     "output_type": "stream",
     "text": [
      "Number of rows after removing rows with missing values:  5000\n"
     ]
    }
   ],
   "source": [
    "reduced_df = bank_df.dropna()\n",
    "print('Number of rows after removing rows with missing values: ', len(reduced_df))\n",
    "del reduced_df"
   ]
  },
  {
   "cell_type": "markdown",
   "metadata": {},
   "source": [
    "### Data Visualization before model fit"
   ]
  },
  {
   "cell_type": "code",
   "execution_count": 122,
   "metadata": {},
   "outputs": [
    {
     "data": {
      "image/png": "[encoded data removed]",
      "text/plain": [
       "<Figure size 360x252 with 1 Axes>"
      ]
     },
     "metadata": {
      "needs_background": "light"
     },
     "output_type": "display_data"
    }
   ],
   "source": [
    "bank_df.plot.scatter(x='Income', y='Age', figsize=(5, 3.5))\n",
    "plt.tight_layout()\n",
    "plt.show()"
   ]
  },
  {
   "cell_type": "code",
   "execution_count": 123,
   "metadata": {},
   "outputs": [
    {
     "data": {
      "image/png": "[encoded data removed]",
      "text/plain": [
       "<Figure size 360x216 with 1 Axes>"
      ]
     },
     "metadata": {
      "needs_background": "light"
     },
     "output_type": "display_data"
    }
   ],
   "source": [
    "ax = bank_df.groupby('PersonalLoan').mean().Age.plot(kind='bar', figsize=[5, 3])\n",
    "ax.set_ylabel('Avg. Age')\n",
    "\n",
    "plt.tight_layout()\n",
    "plt.show()"
   ]
  },
  {
   "cell_type": "code",
   "execution_count": 124,
   "metadata": {
    "scrolled": true
   },
   "outputs": [
    {
     "name": "stderr",
     "output_type": "stream",
     "text": [
      "<ipython-input-124-17335cdc6d32>:4: MatplotlibDeprecationWarning: Passing the minor parameter of set_ticks() positionally is deprecated since Matplotlib 3.2; the parameter will become keyword-only two minor releases later.\n",
      "  ax.set_xticks([0, 1], False)\n"
     ]
    },
    {
     "data": {
      "text/plain": [
       "Text(0, 0.5, 'Avg. Income')"
      ]
     },
     "execution_count": 124,
     "metadata": {},
     "output_type": "execute_result"
    },
    {
     "data": {
      "image/png": "[encoded data removed]",
      "text/plain": [
       "<Figure size 432x288 with 1 Axes>"
      ]
     },
     "metadata": {
      "needs_background": "light"
     },
     "output_type": "display_data"
    }
   ],
   "source": [
    "dataForPlot = bank_df.groupby('PersonalLoan').mean().Income\n",
    "fig, ax = plt.subplots()\n",
    "\n",
    "ax.bar(dataForPlot.index, dataForPlot, color=['C5', 'C1'])\n",
    "ax.set_xticks([0, 1], False)\n",
    "ax.set_xlabel('PersonalLoan')\n",
    "ax.set_ylabel('Avg. Income')"
   ]
  },
  {
   "cell_type": "code",
   "execution_count": 125,
   "metadata": {},
   "outputs": [
    {
     "data": {
      "image/png": "[encoded data removed]",
      "text/plain": [
       "<Figure size 360x216 with 1 Axes>"
      ]
     },
     "metadata": {
      "needs_background": "light"
     },
     "output_type": "display_data"
    }
   ],
   "source": [
    "dataForPlot = bank_df.groupby('CreditCard').mean()['PersonalLoan'] * 100\n",
    "ax = dataForPlot.plot(kind='bar', figsize=[5, 3])\n",
    "ax.set_ylabel('% of PersonalLoan')\n",
    "\n",
    "plt.tight_layout()\n",
    "plt.show()"
   ]
  },
  {
   "cell_type": "code",
   "execution_count": 126,
   "metadata": {},
   "outputs": [
    {
     "name": "stderr",
     "output_type": "stream",
     "text": [
      "<ipython-input-126-bae9fca15549>:3: MatplotlibDeprecationWarning: Passing the minor parameter of set_ticks() positionally is deprecated since Matplotlib 3.2; the parameter will become keyword-only two minor releases later.\n",
      "  ax.set_xticks([0, 1], False)\n"
     ]
    },
    {
     "data": {
      "text/plain": [
       "Text(0, 0.5, '% of PersonalLoan')"
      ]
     },
     "execution_count": 126,
     "metadata": {},
     "output_type": "execute_result"
    },
    {
     "data": {
      "image/png": "[encoded data removed]",
      "text/plain": [
       "<Figure size 432x288 with 1 Axes>"
      ]
     },
     "metadata": {
      "needs_background": "light"
     },
     "output_type": "display_data"
    }
   ],
   "source": [
    "fig, ax = plt.subplots()\n",
    "ax.bar(dataForPlot.index, dataForPlot, color=['C5', 'C1'])\n",
    "ax.set_xticks([0, 1], False)\n",
    "ax.set_xlabel('SecuritiesAccount')\n",
    "ax.set_ylabel('% of PersonalLoan')"
   ]
  },
  {
   "cell_type": "code",
   "execution_count": 127,
   "metadata": {},
   "outputs": [
    {
     "data": {
      "image/png": "[encoded data removed]",
      "text/plain": [
       "<Figure size 432x288 with 1 Axes>"
      ]
     },
     "metadata": {
      "needs_background": "light"
     },
     "output_type": "display_data"
    }
   ],
   "source": [
    "ax = bank_df.Income.hist()\n",
    "ax.set_xlabel('Income')\n",
    "ax.set_ylabel('count')\n",
    "\n",
    "plt.show()"
   ]
  },
  {
   "cell_type": "code",
   "execution_count": 128,
   "metadata": {},
   "outputs": [
    {
     "name": "stderr",
     "output_type": "stream",
     "text": [
      "<ipython-input-128-8c84bea72b96>:4: MatplotlibDeprecationWarning: Passing the minor parameter of set_ticks() positionally is deprecated since Matplotlib 3.2; the parameter will become keyword-only two minor releases later.\n",
      "  ax.set_xticks([1, 2], False)\n"
     ]
    },
    {
     "data": {
      "image/png": "[encoded data removed]",
      "text/plain": [
       "<Figure size 432x288 with 1 Axes>"
      ]
     },
     "metadata": {
      "needs_background": "light"
     },
     "output_type": "display_data"
    }
   ],
   "source": [
    "dataForPlot = [list(bank_df[bank_df.PersonalLoan==0].Age), list(bank_df[bank_df.PersonalLoan==1].Age)]\n",
    "fig, ax = plt.subplots()\n",
    "ax.boxplot(dataForPlot)\n",
    "ax.set_xticks([1, 2], False)\n",
    "ax.set_xticklabels([0, 1])\n",
    "ax.set_xlabel('PersonalLoan')\n",
    "ax.set_ylabel('Age')\n",
    "\n",
    "plt.show()"
   ]
  },
  {
   "cell_type": "code",
   "execution_count": 129,
   "metadata": {
    "scrolled": true
   },
   "outputs": [
    {
     "data": {
      "image/png": "[encoded data removed]",
      "text/plain": [
       "<Figure size 432x288 with 4 Axes>"
      ]
     },
     "metadata": {
      "needs_background": "light"
     },
     "output_type": "display_data"
    }
   ],
   "source": [
    "fig, axes = plt.subplots(nrows=1, ncols=4)\n",
    "bank_df.boxplot(column='Age', by='PersonalLoan', ax=axes[0])\n",
    "bank_df.boxplot(column='Income', by='PersonalLoan', ax=axes[1])\n",
    "bank_df.boxplot(column='Experience', by='PersonalLoan', ax=axes[2])\n",
    "bank_df.boxplot(column='CCAvg', by='PersonalLoan', ax=axes[3])\n",
    "for ax in axes:\n",
    "    ax.set_xlabel('PersonalLoan')\n",
    "plt.suptitle('')\n",
    "plt.tight_layout()\n",
    "\n",
    "plt.show()"
   ]
  },
  {
   "cell_type": "code",
   "execution_count": 130,
   "metadata": {},
   "outputs": [
    {
     "data": {
      "text/plain": [
       "<AxesSubplot:>"
      ]
     },
     "execution_count": 130,
     "metadata": {},
     "output_type": "execute_result"
    },
    {
     "data": {
      "image/png": "[encoded data removed]",
      "text/plain": [
       "<Figure size 432x288 with 2 Axes>"
      ]
     },
     "metadata": {
      "needs_background": "light"
     },
     "output_type": "display_data"
    }
   ],
   "source": [
    "sns.heatmap(corr, xticklabels=corr.columns, yticklabels=corr.columns, vmin=-1, vmax=1, cmap=\"RdBu\")"
   ]
  },
  {
   "cell_type": "markdown",
   "metadata": {},
   "source": [
    "### Data Preparation"
   ]
  },
  {
   "cell_type": "code",
   "execution_count": 131,
   "metadata": {
    "scrolled": true
   },
   "outputs": [
    {
     "data": {
      "text/html": [
       "<div>\n",
       "<style scoped>\n",
       "    .dataframe tbody tr th:only-of-type {\n",
       "        vertical-align: middle;\n",
       "    }\n",
       "\n",
       "    .dataframe tbody tr th {\n",
       "        vertical-align: top;\n",
       "    }\n",
       "\n",
       "    .dataframe thead th {\n",
       "        text-align: right;\n",
       "    }\n",
       "</style>\n",
       "<table border=\"1\" class=\"dataframe\">\n",
       "  <thead>\n",
       "    <tr style=\"text-align: right;\">\n",
       "      <th></th>\n",
       "      <th>ID</th>\n",
       "      <th>Age</th>\n",
       "      <th>Experience</th>\n",
       "      <th>Income</th>\n",
       "      <th>ZIPCode</th>\n",
       "      <th>Family</th>\n",
       "      <th>CCAvg</th>\n",
       "      <th>Education</th>\n",
       "      <th>Mortgage</th>\n",
       "      <th>PersonalLoan</th>\n",
       "      <th>SecuritiesAccount</th>\n",
       "      <th>CDAccount</th>\n",
       "      <th>Online</th>\n",
       "      <th>CreditCard</th>\n",
       "    </tr>\n",
       "  </thead>\n",
       "  <tbody>\n",
       "    <tr>\n",
       "      <th>ID</th>\n",
       "      <td>1.000000</td>\n",
       "      <td>-0.008473</td>\n",
       "      <td>-0.008326</td>\n",
       "      <td>-0.017695</td>\n",
       "      <td>0.013432</td>\n",
       "      <td>-0.016797</td>\n",
       "      <td>-0.024672</td>\n",
       "      <td>0.021463</td>\n",
       "      <td>-0.013920</td>\n",
       "      <td>-0.024801</td>\n",
       "      <td>-0.016972</td>\n",
       "      <td>-0.006909</td>\n",
       "      <td>-0.002528</td>\n",
       "      <td>0.017028</td>\n",
       "    </tr>\n",
       "    <tr>\n",
       "      <th>Age</th>\n",
       "      <td>-0.008473</td>\n",
       "      <td>1.000000</td>\n",
       "      <td>0.994215</td>\n",
       "      <td>-0.055269</td>\n",
       "      <td>-0.029216</td>\n",
       "      <td>-0.046418</td>\n",
       "      <td>-0.052030</td>\n",
       "      <td>0.041334</td>\n",
       "      <td>-0.012539</td>\n",
       "      <td>-0.007726</td>\n",
       "      <td>-0.000436</td>\n",
       "      <td>0.008043</td>\n",
       "      <td>0.013702</td>\n",
       "      <td>0.007681</td>\n",
       "    </tr>\n",
       "    <tr>\n",
       "      <th>Experience</th>\n",
       "      <td>-0.008326</td>\n",
       "      <td>0.994215</td>\n",
       "      <td>1.000000</td>\n",
       "      <td>-0.046574</td>\n",
       "      <td>-0.028626</td>\n",
       "      <td>-0.052563</td>\n",
       "      <td>-0.050089</td>\n",
       "      <td>0.013152</td>\n",
       "      <td>-0.010582</td>\n",
       "      <td>-0.007413</td>\n",
       "      <td>-0.001232</td>\n",
       "      <td>0.010353</td>\n",
       "      <td>0.013898</td>\n",
       "      <td>0.008967</td>\n",
       "    </tr>\n",
       "    <tr>\n",
       "      <th>Income</th>\n",
       "      <td>-0.017695</td>\n",
       "      <td>-0.055269</td>\n",
       "      <td>-0.046574</td>\n",
       "      <td>1.000000</td>\n",
       "      <td>-0.016410</td>\n",
       "      <td>-0.157501</td>\n",
       "      <td>0.645993</td>\n",
       "      <td>-0.187524</td>\n",
       "      <td>0.206806</td>\n",
       "      <td>0.502462</td>\n",
       "      <td>-0.002616</td>\n",
       "      <td>0.169738</td>\n",
       "      <td>0.014206</td>\n",
       "      <td>-0.002385</td>\n",
       "    </tr>\n",
       "    <tr>\n",
       "      <th>ZIPCode</th>\n",
       "      <td>0.013432</td>\n",
       "      <td>-0.029216</td>\n",
       "      <td>-0.028626</td>\n",
       "      <td>-0.016410</td>\n",
       "      <td>1.000000</td>\n",
       "      <td>0.011778</td>\n",
       "      <td>-0.004068</td>\n",
       "      <td>-0.017377</td>\n",
       "      <td>0.007383</td>\n",
       "      <td>0.000107</td>\n",
       "      <td>0.004704</td>\n",
       "      <td>0.019972</td>\n",
       "      <td>0.016990</td>\n",
       "      <td>0.007691</td>\n",
       "    </tr>\n",
       "    <tr>\n",
       "      <th>Family</th>\n",
       "      <td>-0.016797</td>\n",
       "      <td>-0.046418</td>\n",
       "      <td>-0.052563</td>\n",
       "      <td>-0.157501</td>\n",
       "      <td>0.011778</td>\n",
       "      <td>1.000000</td>\n",
       "      <td>-0.109285</td>\n",
       "      <td>0.064929</td>\n",
       "      <td>-0.020445</td>\n",
       "      <td>0.061367</td>\n",
       "      <td>0.019994</td>\n",
       "      <td>0.014110</td>\n",
       "      <td>0.010354</td>\n",
       "      <td>0.011588</td>\n",
       "    </tr>\n",
       "    <tr>\n",
       "      <th>CCAvg</th>\n",
       "      <td>-0.024672</td>\n",
       "      <td>-0.052030</td>\n",
       "      <td>-0.050089</td>\n",
       "      <td>0.645993</td>\n",
       "      <td>-0.004068</td>\n",
       "      <td>-0.109285</td>\n",
       "      <td>1.000000</td>\n",
       "      <td>-0.136138</td>\n",
       "      <td>0.109909</td>\n",
       "      <td>0.366891</td>\n",
       "      <td>0.015087</td>\n",
       "      <td>0.136537</td>\n",
       "      <td>-0.003620</td>\n",
       "      <td>-0.006686</td>\n",
       "    </tr>\n",
       "    <tr>\n",
       "      <th>Education</th>\n",
       "      <td>0.021463</td>\n",
       "      <td>0.041334</td>\n",
       "      <td>0.013152</td>\n",
       "      <td>-0.187524</td>\n",
       "      <td>-0.017377</td>\n",
       "      <td>0.064929</td>\n",
       "      <td>-0.136138</td>\n",
       "      <td>1.000000</td>\n",
       "      <td>-0.033327</td>\n",
       "      <td>0.136722</td>\n",
       "      <td>-0.010812</td>\n",
       "      <td>0.013934</td>\n",
       "      <td>-0.015004</td>\n",
       "      <td>-0.011014</td>\n",
       "    </tr>\n",
       "    <tr>\n",
       "      <th>Mortgage</th>\n",
       "      <td>-0.013920</td>\n",
       "      <td>-0.012539</td>\n",
       "      <td>-0.010582</td>\n",
       "      <td>0.206806</td>\n",
       "      <td>0.007383</td>\n",
       "      <td>-0.020445</td>\n",
       "      <td>0.109909</td>\n",
       "      <td>-0.033327</td>\n",
       "      <td>1.000000</td>\n",
       "      <td>0.142095</td>\n",
       "      <td>-0.005411</td>\n",
       "      <td>0.089311</td>\n",
       "      <td>-0.005995</td>\n",
       "      <td>-0.007231</td>\n",
       "    </tr>\n",
       "    <tr>\n",
       "      <th>PersonalLoan</th>\n",
       "      <td>-0.024801</td>\n",
       "      <td>-0.007726</td>\n",
       "      <td>-0.007413</td>\n",
       "      <td>0.502462</td>\n",
       "      <td>0.000107</td>\n",
       "      <td>0.061367</td>\n",
       "      <td>0.366891</td>\n",
       "      <td>0.136722</td>\n",
       "      <td>0.142095</td>\n",
       "      <td>1.000000</td>\n",
       "      <td>0.021954</td>\n",
       "      <td>0.316355</td>\n",
       "      <td>0.006278</td>\n",
       "      <td>0.002802</td>\n",
       "    </tr>\n",
       "    <tr>\n",
       "      <th>SecuritiesAccount</th>\n",
       "      <td>-0.016972</td>\n",
       "      <td>-0.000436</td>\n",
       "      <td>-0.001232</td>\n",
       "      <td>-0.002616</td>\n",
       "      <td>0.004704</td>\n",
       "      <td>0.019994</td>\n",
       "      <td>0.015087</td>\n",
       "      <td>-0.010812</td>\n",
       "      <td>-0.005411</td>\n",
       "      <td>0.021954</td>\n",
       "      <td>1.000000</td>\n",
       "      <td>0.317034</td>\n",
       "      <td>0.012627</td>\n",
       "      <td>-0.015028</td>\n",
       "    </tr>\n",
       "    <tr>\n",
       "      <th>CDAccount</th>\n",
       "      <td>-0.006909</td>\n",
       "      <td>0.008043</td>\n",
       "      <td>0.010353</td>\n",
       "      <td>0.169738</td>\n",
       "      <td>0.019972</td>\n",
       "      <td>0.014110</td>\n",
       "      <td>0.136537</td>\n",
       "      <td>0.013934</td>\n",
       "      <td>0.089311</td>\n",
       "      <td>0.316355</td>\n",
       "      <td>0.317034</td>\n",
       "      <td>1.000000</td>\n",
       "      <td>0.175880</td>\n",
       "      <td>0.278644</td>\n",
       "    </tr>\n",
       "    <tr>\n",
       "      <th>Online</th>\n",
       "      <td>-0.002528</td>\n",
       "      <td>0.013702</td>\n",
       "      <td>0.013898</td>\n",
       "      <td>0.014206</td>\n",
       "      <td>0.016990</td>\n",
       "      <td>0.010354</td>\n",
       "      <td>-0.003620</td>\n",
       "      <td>-0.015004</td>\n",
       "      <td>-0.005995</td>\n",
       "      <td>0.006278</td>\n",
       "      <td>0.012627</td>\n",
       "      <td>0.175880</td>\n",
       "      <td>1.000000</td>\n",
       "      <td>0.004210</td>\n",
       "    </tr>\n",
       "    <tr>\n",
       "      <th>CreditCard</th>\n",
       "      <td>0.017028</td>\n",
       "      <td>0.007681</td>\n",
       "      <td>0.008967</td>\n",
       "      <td>-0.002385</td>\n",
       "      <td>0.007691</td>\n",
       "      <td>0.011588</td>\n",
       "      <td>-0.006686</td>\n",
       "      <td>-0.011014</td>\n",
       "      <td>-0.007231</td>\n",
       "      <td>0.002802</td>\n",
       "      <td>-0.015028</td>\n",
       "      <td>0.278644</td>\n",
       "      <td>0.004210</td>\n",
       "      <td>1.000000</td>\n",
       "    </tr>\n",
       "  </tbody>\n",
       "</table>\n",
       "</div>"
      ],
      "text/plain": [
       "                         ID       Age  Experience    Income   ZIPCode  \\\n",
       "ID                 1.000000 -0.008473   -0.008326 -0.017695  0.013432   \n",
       "Age               -0.008473  1.000000    0.994215 -0.055269 -0.029216   \n",
       "Experience        -0.008326  0.994215    1.000000 -0.046574 -0.028626   \n",
       "Income            -0.017695 -0.055269   -0.046574  1.000000 -0.016410   \n",
       "ZIPCode            0.013432 -0.029216   -0.028626 -0.016410  1.000000   \n",
       "Family            -0.016797 -0.046418   -0.052563 -0.157501  0.011778   \n",
       "CCAvg             -0.024672 -0.052030   -0.050089  0.645993 -0.004068   \n",
       "Education          0.021463  0.041334    0.013152 -0.187524 -0.017377   \n",
       "Mortgage          -0.013920 -0.012539   -0.010582  0.206806  0.007383   \n",
       "PersonalLoan      -0.024801 -0.007726   -0.007413  0.502462  0.000107   \n",
       "SecuritiesAccount -0.016972 -0.000436   -0.001232 -0.002616  0.004704   \n",
       "CDAccount         -0.006909  0.008043    0.010353  0.169738  0.019972   \n",
       "Online            -0.002528  0.013702    0.013898  0.014206  0.016990   \n",
       "CreditCard         0.017028  0.007681    0.008967 -0.002385  0.007691   \n",
       "\n",
       "                     Family     CCAvg  Education  Mortgage  PersonalLoan  \\\n",
       "ID                -0.016797 -0.024672   0.021463 -0.013920     -0.024801   \n",
       "Age               -0.046418 -0.052030   0.041334 -0.012539     -0.007726   \n",
       "Experience        -0.052563 -0.050089   0.013152 -0.010582     -0.007413   \n",
       "Income            -0.157501  0.645993  -0.187524  0.206806      0.502462   \n",
       "ZIPCode            0.011778 -0.004068  -0.017377  0.007383      0.000107   \n",
       "Family             1.000000 -0.109285   0.064929 -0.020445      0.061367   \n",
       "CCAvg             -0.109285  1.000000  -0.136138  0.109909      0.366891   \n",
       "Education          0.064929 -0.136138   1.000000 -0.033327      0.136722   \n",
       "Mortgage          -0.020445  0.109909  -0.033327  1.000000      0.142095   \n",
       "PersonalLoan       0.061367  0.366891   0.136722  0.142095      1.000000   \n",
       "SecuritiesAccount  0.019994  0.015087  -0.010812 -0.005411      0.021954   \n",
       "CDAccount          0.014110  0.136537   0.013934  0.089311      0.316355   \n",
       "Online             0.010354 -0.003620  -0.015004 -0.005995      0.006278   \n",
       "CreditCard         0.011588 -0.006686  -0.011014 -0.007231      0.002802   \n",
       "\n",
       "                   SecuritiesAccount  CDAccount    Online  CreditCard  \n",
       "ID                         -0.016972  -0.006909 -0.002528    0.017028  \n",
       "Age                        -0.000436   0.008043  0.013702    0.007681  \n",
       "Experience                 -0.001232   0.010353  0.013898    0.008967  \n",
       "Income                     -0.002616   0.169738  0.014206   -0.002385  \n",
       "ZIPCode                     0.004704   0.019972  0.016990    0.007691  \n",
       "Family                      0.019994   0.014110  0.010354    0.011588  \n",
       "CCAvg                       0.015087   0.136537 -0.003620   -0.006686  \n",
       "Education                  -0.010812   0.013934 -0.015004   -0.011014  \n",
       "Mortgage                   -0.005411   0.089311 -0.005995   -0.007231  \n",
       "PersonalLoan                0.021954   0.316355  0.006278    0.002802  \n",
       "SecuritiesAccount           1.000000   0.317034  0.012627   -0.015028  \n",
       "CDAccount                   0.317034   1.000000  0.175880    0.278644  \n",
       "Online                      0.012627   0.175880  1.000000    0.004210  \n",
       "CreditCard                 -0.015028   0.278644  0.004210    1.000000  "
      ]
     },
     "execution_count": 131,
     "metadata": {},
     "output_type": "execute_result"
    }
   ],
   "source": [
    "bank_df.corr()"
   ]
  },
  {
   "cell_type": "markdown",
   "metadata": {},
   "source": [
    "As per the correlation table, we can remove the predictors listed below that are negatively correlated or have close to a zero correlation with the PersonalLoan outcome:\n",
    "\n",
    "    - ID\n",
    "    - Age\n",
    "    - Experience\n",
    "    - ZIPCode\n",
    "    - Online\n",
    "    - CreditCard"
   ]
  },
  {
   "cell_type": "markdown",
   "metadata": {},
   "source": [
    "### We generate two datasets X and y from the original dataset. This is the first run without and manipulations to the original dataset. We are fitting the Decision Tree and Random Forest models.\n",
    "\n",
    "X is the dataset that contains the independent (predictive) variables. We drop the variables that are not useful. \n",
    "\n",
    "y is the dataset that contains the outcome variable \"outcome\"."
   ]
  },
  {
   "cell_type": "code",
   "execution_count": 132,
   "metadata": {},
   "outputs": [],
   "source": [
    "X = bank_df.drop(['ID', 'Age', 'Experience','ZIPCode', 'Online', 'CreditCard','PersonalLoan'], axis=1)\n",
    "y = bank_df['PersonalLoan']"
   ]
  },
  {
   "cell_type": "code",
   "execution_count": 133,
   "metadata": {},
   "outputs": [
    {
     "data": {
      "text/html": [
       "<div>\n",
       "<style scoped>\n",
       "    .dataframe tbody tr th:only-of-type {\n",
       "        vertical-align: middle;\n",
       "    }\n",
       "\n",
       "    .dataframe tbody tr th {\n",
       "        vertical-align: top;\n",
       "    }\n",
       "\n",
       "    .dataframe thead th {\n",
       "        text-align: right;\n",
       "    }\n",
       "</style>\n",
       "<table border=\"1\" class=\"dataframe\">\n",
       "  <thead>\n",
       "    <tr style=\"text-align: right;\">\n",
       "      <th></th>\n",
       "      <th>Income</th>\n",
       "      <th>Family</th>\n",
       "      <th>CCAvg</th>\n",
       "      <th>Education</th>\n",
       "      <th>Mortgage</th>\n",
       "      <th>SecuritiesAccount</th>\n",
       "      <th>CDAccount</th>\n",
       "    </tr>\n",
       "  </thead>\n",
       "  <tbody>\n",
       "    <tr>\n",
       "      <th>0</th>\n",
       "      <td>49</td>\n",
       "      <td>4</td>\n",
       "      <td>1.6</td>\n",
       "      <td>1</td>\n",
       "      <td>0</td>\n",
       "      <td>1</td>\n",
       "      <td>0</td>\n",
       "    </tr>\n",
       "    <tr>\n",
       "      <th>1</th>\n",
       "      <td>34</td>\n",
       "      <td>3</td>\n",
       "      <td>1.5</td>\n",
       "      <td>1</td>\n",
       "      <td>0</td>\n",
       "      <td>1</td>\n",
       "      <td>0</td>\n",
       "    </tr>\n",
       "    <tr>\n",
       "      <th>2</th>\n",
       "      <td>11</td>\n",
       "      <td>1</td>\n",
       "      <td>1.0</td>\n",
       "      <td>1</td>\n",
       "      <td>0</td>\n",
       "      <td>0</td>\n",
       "      <td>0</td>\n",
       "    </tr>\n",
       "    <tr>\n",
       "      <th>3</th>\n",
       "      <td>100</td>\n",
       "      <td>1</td>\n",
       "      <td>2.7</td>\n",
       "      <td>2</td>\n",
       "      <td>0</td>\n",
       "      <td>0</td>\n",
       "      <td>0</td>\n",
       "    </tr>\n",
       "    <tr>\n",
       "      <th>4</th>\n",
       "      <td>45</td>\n",
       "      <td>4</td>\n",
       "      <td>1.0</td>\n",
       "      <td>2</td>\n",
       "      <td>0</td>\n",
       "      <td>0</td>\n",
       "      <td>0</td>\n",
       "    </tr>\n",
       "  </tbody>\n",
       "</table>\n",
       "</div>"
      ],
      "text/plain": [
       "   Income  Family  CCAvg  Education  Mortgage  SecuritiesAccount  CDAccount\n",
       "0      49       4    1.6          1         0                  1          0\n",
       "1      34       3    1.5          1         0                  1          0\n",
       "2      11       1    1.0          1         0                  0          0\n",
       "3     100       1    2.7          2         0                  0          0\n",
       "4      45       4    1.0          2         0                  0          0"
      ]
     },
     "execution_count": 133,
     "metadata": {},
     "output_type": "execute_result"
    }
   ],
   "source": [
    "X.head(5)"
   ]
  },
  {
   "cell_type": "markdown",
   "metadata": {},
   "source": [
    "### Imported train_test_split function from sklearn.model_selection module\n",
    "The original dataset is divided into training and test datasets.  The test dataset contains twenty-five percent of the original data."
   ]
  },
  {
   "cell_type": "code",
   "execution_count": 134,
   "metadata": {},
   "outputs": [],
   "source": [
    "from sklearn.model_selection import train_test_split\n",
    "X_train, X_test, y_train, y_test = train_test_split(X, y, test_size=0.25)"
   ]
  },
  {
   "cell_type": "markdown",
   "metadata": {},
   "source": [
    "### Imported DecisionTreeClassifier function from sklearn.tree module"
   ]
  },
  {
   "cell_type": "code",
   "execution_count": 135,
   "metadata": {},
   "outputs": [],
   "source": [
    "from sklearn.tree import DecisionTreeClassifier"
   ]
  },
  {
   "cell_type": "code",
   "execution_count": 136,
   "metadata": {},
   "outputs": [],
   "source": [
    "classifier = DecisionTreeClassifier()"
   ]
  },
  {
   "cell_type": "markdown",
   "metadata": {},
   "source": [
    "### Building a classification tree using the training sets  "
   ]
  },
  {
   "cell_type": "code",
   "execution_count": 137,
   "metadata": {},
   "outputs": [
    {
     "data": {
      "text/plain": [
       "DecisionTreeClassifier()"
      ]
     },
     "execution_count": 137,
     "metadata": {},
     "output_type": "execute_result"
    }
   ],
   "source": [
    "classifier.fit(X_train, y_train)"
   ]
  },
  {
   "cell_type": "markdown",
   "metadata": {},
   "source": [
    "### Generated the predicted y value for the test set using the decision tree classification tree built\n",
    "### Also, generated the predicted y value for the train set using the decision tree classification tree built"
   ]
  },
  {
   "cell_type": "code",
   "execution_count": 138,
   "metadata": {},
   "outputs": [],
   "source": [
    "pred = classifier.predict(X_test)\n",
    "train_data_pred = classifier.predict(X_train)"
   ]
  },
  {
   "cell_type": "markdown",
   "metadata": {},
   "source": [
    "### Imported accuracy_score function from sklearn.metrics module"
   ]
  },
  {
   "cell_type": "code",
   "execution_count": 139,
   "metadata": {},
   "outputs": [],
   "source": [
    "from sklearn.metrics import accuracy_score\n",
    "from sklearn.metrics import classification_report"
   ]
  },
  {
   "cell_type": "markdown",
   "metadata": {},
   "source": [
    "### Evaluated the accuracy of the decision tree model by comparing the predicted y values with the actual y values in the test set "
   ]
  },
  {
   "cell_type": "code",
   "execution_count": 140,
   "metadata": {},
   "outputs": [],
   "source": [
    "accuracy = accuracy_score(y_test, pred)"
   ]
  },
  {
   "cell_type": "code",
   "execution_count": 141,
   "metadata": {},
   "outputs": [
    {
     "name": "stdout",
     "output_type": "stream",
     "text": [
      "Accuracy Score:  0.9848\n"
     ]
    }
   ],
   "source": [
    "print(\"Accuracy Score: \", accuracy)"
   ]
  },
  {
   "cell_type": "code",
   "execution_count": 142,
   "metadata": {},
   "outputs": [
    {
     "name": "stdout",
     "output_type": "stream",
     "text": [
      "Test Data: \n",
      "              precision    recall  f1-score   support\n",
      "\n",
      "           0       0.99      0.99      0.99      1144\n",
      "           1       0.92      0.90      0.91       106\n",
      "\n",
      "    accuracy                           0.98      1250\n",
      "   macro avg       0.96      0.94      0.95      1250\n",
      "weighted avg       0.98      0.98      0.98      1250\n",
      "\n"
     ]
    }
   ],
   "source": [
    "print(\"Test Data: \")\n",
    "print(classification_report(y_test, pred))"
   ]
  },
  {
   "cell_type": "code",
   "execution_count": 143,
   "metadata": {},
   "outputs": [
    {
     "name": "stdout",
     "output_type": "stream",
     "text": [
      "Train Data: \n",
      "              precision    recall  f1-score   support\n",
      "\n",
      "           0       1.00      1.00      1.00      3376\n",
      "           1       1.00      1.00      1.00       374\n",
      "\n",
      "    accuracy                           1.00      3750\n",
      "   macro avg       1.00      1.00      1.00      3750\n",
      "weighted avg       1.00      1.00      1.00      3750\n",
      "\n"
     ]
    }
   ],
   "source": [
    "print(\"Train Data: \")\n",
    "print(classification_report(y_train, train_data_pred))"
   ]
  },
  {
   "cell_type": "markdown",
   "metadata": {},
   "source": [
    "### Estimating the training and test error using the train and test data - Decision Tree"
   ]
  },
  {
   "cell_type": "code",
   "execution_count": 144,
   "metadata": {},
   "outputs": [],
   "source": [
    "from sklearn.metrics import mean_absolute_error"
   ]
  },
  {
   "cell_type": "code",
   "execution_count": 145,
   "metadata": {},
   "outputs": [
    {
     "name": "stdout",
     "output_type": "stream",
     "text": [
      "Train Data Test Error:  0.0\n",
      "Test Data Test Error:  0.0152\n"
     ]
    }
   ],
   "source": [
    "train_data_test_error = mean_absolute_error(y_train, train_data_pred)\n",
    "test_data_test_error = mean_absolute_error(y_test, pred)\n",
    "print(\"Train Data Test Error: \", train_data_test_error)\n",
    "print(\"Test Data Test Error: \", test_data_test_error)"
   ]
  },
  {
   "cell_type": "markdown",
   "metadata": {},
   "source": [
    "### Generated variable yhat to store predicted y values for the original dataset"
   ]
  },
  {
   "cell_type": "code",
   "execution_count": 146,
   "metadata": {},
   "outputs": [],
   "source": [
    "# bank_df['yhat'] = classifier.predict(X)"
   ]
  },
  {
   "cell_type": "markdown",
   "metadata": {},
   "source": [
    "### Exported the dataset with predicted value"
   ]
  },
  {
   "cell_type": "code",
   "execution_count": 147,
   "metadata": {},
   "outputs": [],
   "source": [
    "# pd.DataFrame(bank_df).to_csv(\"Personal_Loan_Predictions_Decision_Tree.csv\")"
   ]
  },
  {
   "cell_type": "markdown",
   "metadata": {},
   "source": [
    "### Imported RandomForestClassifier function from sklearn.ensemble package"
   ]
  },
  {
   "cell_type": "code",
   "execution_count": 160,
   "metadata": {},
   "outputs": [],
   "source": [
    "from sklearn.ensemble import RandomForestClassifier"
   ]
  },
  {
   "cell_type": "code",
   "execution_count": 161,
   "metadata": {},
   "outputs": [],
   "source": [
    "random_classifier = RandomForestClassifier()"
   ]
  },
  {
   "cell_type": "markdown",
   "metadata": {},
   "source": [
    "### Build a random forest classification tree using the training sets"
   ]
  },
  {
   "cell_type": "code",
   "execution_count": 162,
   "metadata": {},
   "outputs": [
    {
     "data": {
      "text/plain": [
       "RandomForestClassifier()"
      ]
     },
     "execution_count": 162,
     "metadata": {},
     "output_type": "execute_result"
    }
   ],
   "source": [
    "random_classifier.fit(X_train, y_train)"
   ]
  },
  {
   "cell_type": "markdown",
   "metadata": {},
   "source": [
    "### Generated the predicted y value for the test set using the random forest classification tree built"
   ]
  },
  {
   "cell_type": "code",
   "execution_count": 163,
   "metadata": {},
   "outputs": [],
   "source": [
    "pred = random_classifier.predict(X_test)\n",
    "train_data_pred = random_classifier.predict(X_train)"
   ]
  },
  {
   "cell_type": "markdown",
   "metadata": {},
   "source": [
    "### Imported accuracy_score function from sklearn.metrics package"
   ]
  },
  {
   "cell_type": "code",
   "execution_count": 164,
   "metadata": {},
   "outputs": [],
   "source": [
    "from sklearn.metrics import accuracy_score"
   ]
  },
  {
   "cell_type": "markdown",
   "metadata": {},
   "source": [
    "### Evaluated the accuracy of the random forest classification tree model by comparing the predicted y values with the actual y values in the test set"
   ]
  },
  {
   "cell_type": "code",
   "execution_count": 165,
   "metadata": {},
   "outputs": [],
   "source": [
    "accuracy = accuracy_score(y_test, pred)"
   ]
  },
  {
   "cell_type": "code",
   "execution_count": 166,
   "metadata": {},
   "outputs": [
    {
     "name": "stdout",
     "output_type": "stream",
     "text": [
      "Accuracy Score:  0.9864\n"
     ]
    }
   ],
   "source": [
    "print(\"Accuracy Score: \", accuracy)"
   ]
  },
  {
   "cell_type": "code",
   "execution_count": 167,
   "metadata": {},
   "outputs": [
    {
     "name": "stdout",
     "output_type": "stream",
     "text": [
      "Test Data: \n",
      "              precision    recall  f1-score   support\n",
      "\n",
      "           0       0.99      0.99      0.99      1144\n",
      "           1       0.94      0.90      0.92       106\n",
      "\n",
      "    accuracy                           0.99      1250\n",
      "   macro avg       0.97      0.95      0.96      1250\n",
      "weighted avg       0.99      0.99      0.99      1250\n",
      "\n"
     ]
    }
   ],
   "source": [
    "print(\"Test Data: \")\n",
    "print(classification_report(y_test, pred))"
   ]
  },
  {
   "cell_type": "code",
   "execution_count": 168,
   "metadata": {},
   "outputs": [
    {
     "name": "stdout",
     "output_type": "stream",
     "text": [
      "Train Data: \n",
      "              precision    recall  f1-score   support\n",
      "\n",
      "           0       1.00      1.00      1.00      3376\n",
      "           1       1.00      1.00      1.00       374\n",
      "\n",
      "    accuracy                           1.00      3750\n",
      "   macro avg       1.00      1.00      1.00      3750\n",
      "weighted avg       1.00      1.00      1.00      3750\n",
      "\n"
     ]
    }
   ],
   "source": [
    "print(\"Train Data: \")\n",
    "print(classification_report(y_train, train_data_pred))"
   ]
  },
  {
   "cell_type": "markdown",
   "metadata": {},
   "source": [
    "### Estimating the training and test error using the train and test data - Random Forest"
   ]
  },
  {
   "cell_type": "code",
   "execution_count": 169,
   "metadata": {},
   "outputs": [
    {
     "name": "stdout",
     "output_type": "stream",
     "text": [
      "Train Data Test Error:  0.0\n",
      "Test Data Test Error:  0.0136\n"
     ]
    }
   ],
   "source": [
    "train_data_test_error = mean_absolute_error(y_train, train_data_pred)\n",
    "test_data_test_error = mean_absolute_error(y_test, pred)\n",
    "print(\"Train Data Test Error: \", train_data_test_error)\n",
    "print(\"Test Data Test Error: \", test_data_test_error)"
   ]
  },
  {
   "cell_type": "markdown",
   "metadata": {},
   "source": [
    "### Generated variable yhat to store predicted y values for the original dataset"
   ]
  },
  {
   "cell_type": "code",
   "execution_count": 158,
   "metadata": {},
   "outputs": [],
   "source": [
    "# bank_df['yhat'] = random_classifier.predict(X)"
   ]
  },
  {
   "cell_type": "markdown",
   "metadata": {},
   "source": [
    "### Export the dataset with predicted value"
   ]
  },
  {
   "cell_type": "code",
   "execution_count": 159,
   "metadata": {},
   "outputs": [],
   "source": [
    "# pd.DataFrame(bank_df).to_csv(\"Personal_Loan_Predictions_Random_Forest.csv\")"
   ]
  },
  {
   "cell_type": "code",
   "execution_count": null,
   "metadata": {},
   "outputs": [],
   "source": []
  }
 ],
 "metadata": {
  "kernelspec": {
   "display_name": "Python 3",
   "language": "python",
   "name": "python3"
  },
  "language_info": {
   "codemirror_mode": {
    "name": "ipython",
    "version": 3
   },
   "file_extension": ".py",
   "mimetype": "text/x-python",
   "name": "python",
   "nbconvert_exporter": "python",
   "pygments_lexer": "ipython3",
   "version": "3.8.5"
  }
 },
 "nbformat": 4,
 "nbformat_minor": 2
}
